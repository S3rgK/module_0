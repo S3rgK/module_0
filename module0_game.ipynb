{
 "cells": [
  {
   "cell_type": "code",
   "execution_count": 1,
   "metadata": {},
   "outputs": [],
   "source": [
    "import numpy as np\n",
    "\n",
    "def score_game(game_core):\n",
    "    '''Запускаем игру 1000 раз, чтобы узнать, как быстро игра угадывает число'''\n",
    "    count_ls = []\n",
    "    np.random.seed(1)  # фиксируем RANDOM SEED, чтобы ваш эксперимент был воспроизводим!\n",
    "    random_array = np.random.randint(1,101, size=(1000))\n",
    "    for number in random_array:\n",
    "        count_ls.append(game_core(number))\n",
    "    score = int(np.mean(count_ls))\n",
    "    print(f\"Среднее количество попыток, которое использует ваш алгоритм равно {score}.\")"
   ]
  },
  {
   "cell_type": "code",
   "execution_count": null,
   "metadata": {},
   "outputs": [],
   "source": [
    "def game_core_test(number):\n",
    "    '''Сначала устанавливаем любое random число, а потом уменьшаем или увеличиваем его в зависимости от того, больше оно или меньше нужного.\n",
    "       Функция принимает загаданное число и возвращает число попыток'''\n",
    "    count = 1\n",
    "    predict = np.random.randint(1,101)\n",
    "    while number != predict:\n",
    "        count+=1\n",
    "        if number > predict: \n",
    "            predict += 1\n",
    "        elif number < predict: \n",
    "            predict -= 1\n",
    "    return(count) # выход из цикла, если угадали"
   ]
  },
  {
   "cell_type": "code",
   "execution_count": null,
   "metadata": {
    "tags": []
   },
   "outputs": [],
   "source": [
    "# test check\n",
    "score_game(game_core_test)"
   ]
  },
  {
   "cell_type": "code",
   "execution_count": null,
   "metadata": {},
   "outputs": [],
   "source": [
    "def game_core_v1(number):\n",
    "    '''Интервал пополам\n",
    "       Функция принимает загаданное число и возвращает число попыток'''\n",
    "    count = 1\n",
    "    left = 1\n",
    "    right = 100\n",
    "    while True:\n",
    "        count += 1\n",
    "        predict = (left+right) // 2\n",
    "        if predict == number:\n",
    "            break\n",
    "        elif predict > number:\n",
    "            right -= 1\n",
    "        else:\n",
    "            left += 1\n",
    "    return(count)"
   ]
  },
  {
   "cell_type": "code",
   "execution_count": null,
   "metadata": {
    "tags": []
   },
   "outputs": [],
   "source": [
    "# v1 check\n",
    "score_game(game_core_v1)"
   ]
  },
  {
   "cell_type": "code",
   "execution_count": 2,
   "metadata": {},
   "outputs": [],
   "source": [
    "def game_core_v4(number):\n",
    "    '''Бинарный поиск: последовательное двукратное уменьшение интервала поиска\n",
    "       Функция принимает загаданное число и возвращает число попыток'''\n",
    "    attempts = 1\n",
    "    low = 0\n",
    "    high = 101\n",
    "    predict = (low + high) // 2     # середина начального поискового интервала\n",
    "\n",
    "    while number != predict:\n",
    "        if predict > number:\n",
    "            high = predict      # устанавливаем угадываемое число верхней границей интервала\n",
    "            predict = predict - ((high-low) // 2)       # двукратно уменьшаем полученный интервал\n",
    "        elif predict < number:\n",
    "            low = predict       # устанавливаем угадываемое число нижней границей интервала\n",
    "            predict = predict + ((high-low) //2 )   # двукратно уменьшаем полученный интервал\n",
    "        attempts += 1\n",
    "\n",
    "    return(attempts) # выход из цикла, если угадали"
   ]
  },
  {
   "cell_type": "code",
   "execution_count": 3,
   "metadata": {
    "tags": []
   },
   "outputs": [
    {
     "output_type": "stream",
     "name": "stdout",
     "text": "Среднее количество попыток, которое использует ваш алгоритм равно 5.\n"
    }
   ],
   "source": [
    "# v4 check\n",
    "score_game(game_core_v4)"
   ]
  },
  {
   "cell_type": "code",
   "execution_count": null,
   "metadata": {},
   "outputs": [],
   "source": []
  }
 ],
 "metadata": {
  "kernelspec": {
   "display_name": "Python 3.7.6 64-bit ('base': conda)",
   "language": "python",
   "name": "python_defaultSpec_1598338505100"
  },
  "language_info": {
   "codemirror_mode": {
    "name": "ipython",
    "version": 3
   },
   "file_extension": ".py",
   "mimetype": "text/x-python",
   "name": "python",
   "nbconvert_exporter": "python",
   "pygments_lexer": "ipython3",
   "version": "3.7.6-final"
  }
 },
 "nbformat": 4,
 "nbformat_minor": 2
}